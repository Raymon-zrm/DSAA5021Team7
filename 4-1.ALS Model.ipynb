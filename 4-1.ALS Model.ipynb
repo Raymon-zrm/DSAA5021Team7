{
 "cells": [
  {
   "cell_type": "markdown",
   "id": "c4b7c4e2",
   "metadata": {},
   "source": [
    "# MovieLens: Spark-based Big Data Recommendation Analysis\n",
    "\n",
    "# Task4-Part1-ALS Model\n",
    "---"
   ]
  },
  {
   "cell_type": "markdown",
   "id": "37f9f2f1",
   "metadata": {},
   "source": [
    "# 1. Session Creating and Data Loading"
   ]
  },
  {
   "cell_type": "code",
   "execution_count": 1,
   "id": "5a551c23-1689-48c0-8767-07d4a4f9fe60",
   "metadata": {},
   "outputs": [],
   "source": [
    "# Importing the libraries\n",
    "from pyspark.sql import SparkSession\n",
    "from pyspark import SparkContext, SparkConf\n",
    "from pyspark.ml.evaluation import RegressionEvaluator\n",
    "from pyspark.ml.recommendation import ALS\n",
    "from pyspark.sql import Row\n",
    "\n",
    "# Creating the SparkSession\n",
    "spark = SparkSession.builder.appName(\"Ratings Analysis\").getOrCreate()\n",
    "\n",
    "# Loading the dataset\n",
    "small_ratings_raw_data = spark.sparkContext.textFile(\"gs://dataproc-staging-asia-southeast2-933547737015-zijhgarf/ratings.csv\")\n",
    "small_ratings_raw_data_header = small_ratings_raw_data.take(1)[0]\n",
    "\n",
    "# Preprocessing the dataset\n",
    "small_ratings_data = small_ratings_raw_data.filter(lambda line: line!=small_ratings_raw_data_header)\\\n",
    "    .map(lambda line: line.split(\",\")).map(lambda p: Row(userId=int(p[0]), movieId=int(p[1]),\n",
    "                                     rating=float(p[2]), timestamp=int(p[3]))).cache()\n",
    "\n",
    "# Showing the first 3 rows of the dataset\n",
    "small_ratings_data.take(3)"
   ]
  },
  {
   "cell_type": "markdown",
   "id": "f311ad58",
   "metadata": {},
   "source": [
    "# 2. Model Training and Testing"
   ]
  },
  {
   "cell_type": "code",
   "execution_count": 49,
   "id": "ee76024c-629e-4a21-ad12-4ac5cb06a63d",
   "metadata": {},
   "outputs": [
    {
     "name": "stderr",
     "output_type": "stream",
     "text": [
      "                                                                                \r"
     ]
    },
    {
     "name": "stdout",
     "output_type": "stream",
     "text": [
      "Root-mean-square error = 0.8217963309120487\n"
     ]
    }
   ],
   "source": [
    "# Creating the dataframe\n",
    "ratings = spark.createDataFrame(small_ratings_data)\n",
    "# Splitting the dataset into training and test set\n",
    "(training, test) = ratings.randomSplit([0.7, 0.3])\n",
    "\n",
    "# Build the recommendation model using ALS on the training data\n",
    "# Note we set cold start strategy to 'drop' to ensure we don't get NaN evaluation metrics\n",
    "als = ALS(maxIter=5, regParam=0.01, userCol=\"userId\", itemCol=\"movieId\", ratingCol=\"rating\",\n",
    "          coldStartStrategy=\"drop\")\n",
    "model = als.fit(training)\n",
    "\n",
    "# Evaluate the model by computing the RMSE on the test data\n",
    "predictions = model.transform(test)\n",
    "evaluator = RegressionEvaluator(metricName=\"rmse\", labelCol=\"rating\",\n",
    "                                predictionCol=\"prediction\")\n",
    "rmse = evaluator.evaluate(predictions)\n",
    "print(\"Root-mean-square error = \" + str(rmse))\n",
    "\n",
    "# Generate top 10 movie recommendations for each user\n",
    "userRecs = model.recommendForAllUsers(10)\n",
    "# Generate top 10 user recommendations for each movie\n",
    "movieRecs = model.recommendForAllItems(10)\n",
    "\n",
    "# Generate top 10 movie recommendations for a specified set of users\n",
    "users = ratings.select(als.getUserCol()).distinct().limit(3)\n",
    "userSubsetRecs = model.recommendForUserSubset(users, 10)\n",
    "# Generate top 10 user recommendations for a specified set of movies\n",
    "movies = ratings.select(als.getItemCol()).distinct().limit(3)\n",
    "movieSubSetRecs = model.recommendForItemSubset(movies, 10)"
   ]
  },
  {
   "cell_type": "code",
   "execution_count": 50,
   "id": "9d7bc7bb-4341-4462-8560-72f01afe215f",
   "metadata": {},
   "outputs": [],
   "source": [
    "spark.stop()"
   ]
  }
 ],
 "metadata": {
  "kernelspec": {
   "display_name": "Python 3 (ipykernel)",
   "language": "python",
   "name": "python3"
  },
  "language_info": {
   "codemirror_mode": {
    "name": "ipython",
    "version": 3
   },
   "file_extension": ".py",
   "mimetype": "text/x-python",
   "name": "python",
   "nbconvert_exporter": "python",
   "pygments_lexer": "ipython3",
   "version": "3.11.4"
  },
  "toc-autonumbering": true,
  "toc-showcode": false,
  "toc-showmarkdowntxt": true
 },
 "nbformat": 4,
 "nbformat_minor": 5
}
